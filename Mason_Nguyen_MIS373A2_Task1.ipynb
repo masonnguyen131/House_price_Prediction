{
  "cells": [
    {
      "cell_type": "markdown",
      "metadata": {
        "id": "SZwQc8iIYzhL"
      },
      "source": [
        "# MIS373 - AI For Business - Assignment 2\n",
        "\n",
        "## Task 1: House Price Prediction"
      ]
    },
    {
      "cell_type": "markdown",
      "metadata": {
        "id": "LocH583hYzhR"
      },
      "source": [
        "**Student Name:** _Mason Nguyen_\n",
        "\n",
        "**Student ID:** _222500596_"
      ]
    },
    {
      "cell_type": "markdown",
      "metadata": {
        "id": "QoBihZe6_Acd"
      },
      "source": [
        "## Table of Content\n",
        "\n",
        "1. [Executive Summary](#cell_Summary)\n",
        "\n",
        "2. [Data Preprocessing](#cell_Preprocessing)\n",
        "\n",
        "3. [AI Model Development](#cell_model)\n",
        "\n",
        "4. [Experiments Report](#cell_report)\n",
        "\n"
      ]
    },
    {
      "cell_type": "markdown",
      "metadata": {
        "id": "rzo8kho_wzib"
      },
      "source": [
        "<a id = \"cell_Summary\"></a>\n",
        "## 1. Executive Summary"
      ]
    },
    {
      "cell_type": "markdown",
      "metadata": {
        "id": "QNkOiGo3JLJ-"
      },
      "source": [
        "**Executive Problem Statement:**\n",
        "\n",
        "The task was to develop and compare AI models, including linear regression and neural networks, to predict house prices based on housing features in a dataset containing approximately 20,000 house sales in Washington, USA. The goal was to identify the model with the best performance, justify its superiority, and evaluate its suitability for real-world deployment.\n",
        "\n",
        "**Executive Solution Statement:**\n",
        "\n",
        "- Data Preprocessing: Using a 70/30 split for training and testing sets with a fixed seed value\n",
        "\n",
        "- AI Model Developement: Evaluating five predictive models, including two Neural Network Models,  Linear Regression Model, GRU Model, and LSTM Model.\n",
        "\n",
        "- Report: The MLP Model 2 outperformed others across all key metrics: Mean Squared Error, Root Mean Squared Error, Mean Absolute Error, and Correlation Coefficient. Its accuracy, minimal error, and robust linear correlation position it as a reliable model to make decisions within the estate industry."
      ]
    },
    {
      "cell_type": "markdown",
      "metadata": {
        "id": "nqPl5gh_YzhX"
      },
      "source": [
        "<a id = \"cell_Preprocessing\"></a>\n",
        "## 2. Data Preprocessing"
      ]
    },
    {
      "cell_type": "markdown",
      "source": [
        "1. Importing the dataset from Google Drive into Google Colab\n",
        "\n",
        "2. No missing values were found in the dataset\n",
        "\n",
        "3. 'date' column was converted back to date data type, and 'year' and 'quarter' columns were created from it before removing the 'date' column\n",
        "\n",
        "4. 'id' column was removed as it lacks predictive power for price\n",
        "\n",
        "5. 'zipcode' values were converted to categorical data, dummy variables were created, and one dummy variable was removed to prevent multicollinearity. Specifically, the dummy variable with the highest count was excluded\n",
        "\n",
        "6. A function plot_hist() was defined for creating Line Charts in the analysis section\n",
        "\n",
        "7. Split the preprocessed dataset into training and validation sets using a 70:30 ratio."
      ],
      "metadata": {
        "id": "Rc6JVFV5nMjf"
      }
    },
    {
      "cell_type": "code",
      "execution_count": null,
      "metadata": {
        "id": "D5gdQUeixdng"
      },
      "outputs": [],
      "source": [
        "from __future__ import print_function\n",
        "import os\n",
        "import math\n",
        "import datetime\n",
        "import numpy as np\n",
        "import pandas as pd\n",
        "import matplotlib.pyplot as plt"
      ]
    },
    {
      "cell_type": "code",
      "execution_count": null,
      "metadata": {
        "id": "JFHrMF1-zL88"
      },
      "outputs": [],
      "source": [
        "from sklearn.model_selection import cross_val_score\n",
        "from sklearn.model_selection import KFold\n",
        "from sklearn.model_selection import train_test_split\n",
        "from sklearn.preprocessing import StandardScaler, MinMaxScaler\n",
        "from sklearn.preprocessing import OneHotEncoder\n",
        "from sklearn.impute import SimpleImputer\n",
        "from sklearn.pipeline import Pipeline\n",
        "from sklearn.metrics import mean_absolute_error, mean_squared_error\n",
        "from sklearn.linear_model import LinearRegression\n",
        "from tensorflow.keras.layers import LSTM, Dense, GRU\n",
        "import tensorflow as tf\n",
        "import random"
      ]
    },
    {
      "cell_type": "code",
      "execution_count": null,
      "metadata": {
        "id": "iIBPV-IHxdfM",
        "colab": {
          "base_uri": "https://localhost:8080/"
        },
        "outputId": "6a7cceb4-74dc-44c0-e31b-f5e35a52f440"
      },
      "outputs": [
        {
          "output_type": "stream",
          "name": "stdout",
          "text": [
            "Drive already mounted at /content/drive; to attempt to forcibly remount, call drive.mount(\"/content/drive\", force_remount=True).\n"
          ]
        }
      ],
      "source": [
        "from google.colab import drive\n",
        "drive.mount('/content/drive')\n",
        "\n",
        "file_path = \"/content/drive/My Drive/Colab Notebooks/dataset/Part1_house_price.csv\"\n",
        "house_price = pd.read_csv(file_path)"
      ]
    },
    {
      "cell_type": "code",
      "execution_count": null,
      "metadata": {
        "id": "8TRFaPfR1Z5i",
        "colab": {
          "base_uri": "https://localhost:8080/"
        },
        "outputId": "1db9aeb8-d75c-4908-c1c8-cc97d9493a98"
      },
      "outputs": [
        {
          "output_type": "execute_result",
          "data": {
            "text/plain": [
              "id                 int64\n",
              "date              object\n",
              "price            float64\n",
              "bedrooms           int64\n",
              "bathrooms        float64\n",
              "sqft_living        int64\n",
              "sqft_lot           int64\n",
              "floors           float64\n",
              "waterfront         int64\n",
              "view               int64\n",
              "condition          int64\n",
              "grade              int64\n",
              "sqft_above         int64\n",
              "sqft_basement      int64\n",
              "yr_built           int64\n",
              "yr_renovated       int64\n",
              "zipcode            int64\n",
              "lat              float64\n",
              "long             float64\n",
              "sqft_living15      int64\n",
              "sqft_lot15         int64\n",
              "dtype: object"
            ]
          },
          "metadata": {},
          "execution_count": 4
        }
      ],
      "source": [
        "# Finding column types\n",
        "house_price.dtypes"
      ]
    },
    {
      "cell_type": "code",
      "execution_count": null,
      "metadata": {
        "id": "Bq5nMEjWTfCm"
      },
      "outputs": [],
      "source": [
        "# Convert the 'Date' column to datetime format\n",
        "house_price['date'] = pd.to_datetime(house_price['date'], format='%Y%m%dT%H%M%S')\n",
        "\n",
        "# Extract year and quarter from the 'Date' column and add them as new columns\n",
        "house_price['year'] = house_price['date'].dt.year\n",
        "house_price['quarter'] = house_price['date'].dt.quarter"
      ]
    },
    {
      "cell_type": "code",
      "execution_count": null,
      "metadata": {
        "colab": {
          "base_uri": "https://localhost:8080/"
        },
        "id": "BlRbtTdO1nkO",
        "outputId": "7bf825cf-babe-4ab0-905c-74c28b93f8ad"
      },
      "outputs": [
        {
          "output_type": "execute_result",
          "data": {
            "text/plain": [
              "id               0\n",
              "date             0\n",
              "price            0\n",
              "bedrooms         0\n",
              "bathrooms        0\n",
              "sqft_living      0\n",
              "sqft_lot         0\n",
              "floors           0\n",
              "waterfront       0\n",
              "view             0\n",
              "condition        0\n",
              "grade            0\n",
              "sqft_above       0\n",
              "sqft_basement    0\n",
              "yr_built         0\n",
              "yr_renovated     0\n",
              "zipcode          0\n",
              "lat              0\n",
              "long             0\n",
              "sqft_living15    0\n",
              "sqft_lot15       0\n",
              "year             0\n",
              "quarter          0\n",
              "dtype: int64"
            ]
          },
          "metadata": {},
          "execution_count": 6
        }
      ],
      "source": [
        "missing = house_price.isnull().sum()\n",
        "missing"
      ]
    },
    {
      "cell_type": "code",
      "execution_count": null,
      "metadata": {
        "colab": {
          "base_uri": "https://localhost:8080/",
          "height": 253
        },
        "id": "20VLad5C2dbB",
        "outputId": "217b143b-a46c-4056-f30d-5b848177a161"
      },
      "outputs": [
        {
          "output_type": "execute_result",
          "data": {
            "text/plain": [
              "      price  bedrooms  bathrooms  sqft_living  sqft_lot  floors  waterfront  \\\n",
              "0  221900.0         3       1.00         1180      5650     1.0           0   \n",
              "1  538000.0         3       2.25         2570      7242     2.0           0   \n",
              "2  180000.0         2       1.00          770     10000     1.0           0   \n",
              "3  604000.0         4       3.00         1960      5000     1.0           0   \n",
              "4  510000.0         3       2.00         1680      8080     1.0           0   \n",
              "\n",
              "   view  condition  grade  ...  sqft_basement  yr_built  yr_renovated  \\\n",
              "0     0          3      7  ...              0      1955             0   \n",
              "1     0          3      7  ...            400      1951          1991   \n",
              "2     0          3      6  ...              0      1933             0   \n",
              "3     0          5      7  ...            910      1965             0   \n",
              "4     0          3      8  ...              0      1987             0   \n",
              "\n",
              "   zipcode      lat     long  sqft_living15  sqft_lot15  year  quarter  \n",
              "0    98178  47.5112 -122.257           1340        5650  2014        4  \n",
              "1    98125  47.7210 -122.319           1690        7639  2014        4  \n",
              "2    98028  47.7379 -122.233           2720        8062  2015        1  \n",
              "3    98136  47.5208 -122.393           1360        5000  2014        4  \n",
              "4    98074  47.6168 -122.045           1800        7503  2015        1  \n",
              "\n",
              "[5 rows x 21 columns]"
            ],
            "text/html": [
              "\n",
              "  <div id=\"df-a884718d-5aad-42d2-a5db-2a586d6ff444\" class=\"colab-df-container\">\n",
              "    <div>\n",
              "<style scoped>\n",
              "    .dataframe tbody tr th:only-of-type {\n",
              "        vertical-align: middle;\n",
              "    }\n",
              "\n",
              "    .dataframe tbody tr th {\n",
              "        vertical-align: top;\n",
              "    }\n",
              "\n",
              "    .dataframe thead th {\n",
              "        text-align: right;\n",
              "    }\n",
              "</style>\n",
              "<table border=\"1\" class=\"dataframe\">\n",
              "  <thead>\n",
              "    <tr style=\"text-align: right;\">\n",
              "      <th></th>\n",
              "      <th>price</th>\n",
              "      <th>bedrooms</th>\n",
              "      <th>bathrooms</th>\n",
              "      <th>sqft_living</th>\n",
              "      <th>sqft_lot</th>\n",
              "      <th>floors</th>\n",
              "      <th>waterfront</th>\n",
              "      <th>view</th>\n",
              "      <th>condition</th>\n",
              "      <th>grade</th>\n",
              "      <th>...</th>\n",
              "      <th>sqft_basement</th>\n",
              "      <th>yr_built</th>\n",
              "      <th>yr_renovated</th>\n",
              "      <th>zipcode</th>\n",
              "      <th>lat</th>\n",
              "      <th>long</th>\n",
              "      <th>sqft_living15</th>\n",
              "      <th>sqft_lot15</th>\n",
              "      <th>year</th>\n",
              "      <th>quarter</th>\n",
              "    </tr>\n",
              "  </thead>\n",
              "  <tbody>\n",
              "    <tr>\n",
              "      <th>0</th>\n",
              "      <td>221900.0</td>\n",
              "      <td>3</td>\n",
              "      <td>1.00</td>\n",
              "      <td>1180</td>\n",
              "      <td>5650</td>\n",
              "      <td>1.0</td>\n",
              "      <td>0</td>\n",
              "      <td>0</td>\n",
              "      <td>3</td>\n",
              "      <td>7</td>\n",
              "      <td>...</td>\n",
              "      <td>0</td>\n",
              "      <td>1955</td>\n",
              "      <td>0</td>\n",
              "      <td>98178</td>\n",
              "      <td>47.5112</td>\n",
              "      <td>-122.257</td>\n",
              "      <td>1340</td>\n",
              "      <td>5650</td>\n",
              "      <td>2014</td>\n",
              "      <td>4</td>\n",
              "    </tr>\n",
              "    <tr>\n",
              "      <th>1</th>\n",
              "      <td>538000.0</td>\n",
              "      <td>3</td>\n",
              "      <td>2.25</td>\n",
              "      <td>2570</td>\n",
              "      <td>7242</td>\n",
              "      <td>2.0</td>\n",
              "      <td>0</td>\n",
              "      <td>0</td>\n",
              "      <td>3</td>\n",
              "      <td>7</td>\n",
              "      <td>...</td>\n",
              "      <td>400</td>\n",
              "      <td>1951</td>\n",
              "      <td>1991</td>\n",
              "      <td>98125</td>\n",
              "      <td>47.7210</td>\n",
              "      <td>-122.319</td>\n",
              "      <td>1690</td>\n",
              "      <td>7639</td>\n",
              "      <td>2014</td>\n",
              "      <td>4</td>\n",
              "    </tr>\n",
              "    <tr>\n",
              "      <th>2</th>\n",
              "      <td>180000.0</td>\n",
              "      <td>2</td>\n",
              "      <td>1.00</td>\n",
              "      <td>770</td>\n",
              "      <td>10000</td>\n",
              "      <td>1.0</td>\n",
              "      <td>0</td>\n",
              "      <td>0</td>\n",
              "      <td>3</td>\n",
              "      <td>6</td>\n",
              "      <td>...</td>\n",
              "      <td>0</td>\n",
              "      <td>1933</td>\n",
              "      <td>0</td>\n",
              "      <td>98028</td>\n",
              "      <td>47.7379</td>\n",
              "      <td>-122.233</td>\n",
              "      <td>2720</td>\n",
              "      <td>8062</td>\n",
              "      <td>2015</td>\n",
              "      <td>1</td>\n",
              "    </tr>\n",
              "    <tr>\n",
              "      <th>3</th>\n",
              "      <td>604000.0</td>\n",
              "      <td>4</td>\n",
              "      <td>3.00</td>\n",
              "      <td>1960</td>\n",
              "      <td>5000</td>\n",
              "      <td>1.0</td>\n",
              "      <td>0</td>\n",
              "      <td>0</td>\n",
              "      <td>5</td>\n",
              "      <td>7</td>\n",
              "      <td>...</td>\n",
              "      <td>910</td>\n",
              "      <td>1965</td>\n",
              "      <td>0</td>\n",
              "      <td>98136</td>\n",
              "      <td>47.5208</td>\n",
              "      <td>-122.393</td>\n",
              "      <td>1360</td>\n",
              "      <td>5000</td>\n",
              "      <td>2014</td>\n",
              "      <td>4</td>\n",
              "    </tr>\n",
              "    <tr>\n",
              "      <th>4</th>\n",
              "      <td>510000.0</td>\n",
              "      <td>3</td>\n",
              "      <td>2.00</td>\n",
              "      <td>1680</td>\n",
              "      <td>8080</td>\n",
              "      <td>1.0</td>\n",
              "      <td>0</td>\n",
              "      <td>0</td>\n",
              "      <td>3</td>\n",
              "      <td>8</td>\n",
              "      <td>...</td>\n",
              "      <td>0</td>\n",
              "      <td>1987</td>\n",
              "      <td>0</td>\n",
              "      <td>98074</td>\n",
              "      <td>47.6168</td>\n",
              "      <td>-122.045</td>\n",
              "      <td>1800</td>\n",
              "      <td>7503</td>\n",
              "      <td>2015</td>\n",
              "      <td>1</td>\n",
              "    </tr>\n",
              "  </tbody>\n",
              "</table>\n",
              "<p>5 rows × 21 columns</p>\n",
              "</div>\n",
              "    <div class=\"colab-df-buttons\">\n",
              "\n",
              "  <div class=\"colab-df-container\">\n",
              "    <button class=\"colab-df-convert\" onclick=\"convertToInteractive('df-a884718d-5aad-42d2-a5db-2a586d6ff444')\"\n",
              "            title=\"Convert this dataframe to an interactive table.\"\n",
              "            style=\"display:none;\">\n",
              "\n",
              "  <svg xmlns=\"http://www.w3.org/2000/svg\" height=\"24px\" viewBox=\"0 -960 960 960\">\n",
              "    <path d=\"M120-120v-720h720v720H120Zm60-500h600v-160H180v160Zm220 220h160v-160H400v160Zm0 220h160v-160H400v160ZM180-400h160v-160H180v160Zm440 0h160v-160H620v160ZM180-180h160v-160H180v160Zm440 0h160v-160H620v160Z\"/>\n",
              "  </svg>\n",
              "    </button>\n",
              "\n",
              "  <style>\n",
              "    .colab-df-container {\n",
              "      display:flex;\n",
              "      gap: 12px;\n",
              "    }\n",
              "\n",
              "    .colab-df-convert {\n",
              "      background-color: #E8F0FE;\n",
              "      border: none;\n",
              "      border-radius: 50%;\n",
              "      cursor: pointer;\n",
              "      display: none;\n",
              "      fill: #1967D2;\n",
              "      height: 32px;\n",
              "      padding: 0 0 0 0;\n",
              "      width: 32px;\n",
              "    }\n",
              "\n",
              "    .colab-df-convert:hover {\n",
              "      background-color: #E2EBFA;\n",
              "      box-shadow: 0px 1px 2px rgba(60, 64, 67, 0.3), 0px 1px 3px 1px rgba(60, 64, 67, 0.15);\n",
              "      fill: #174EA6;\n",
              "    }\n",
              "\n",
              "    .colab-df-buttons div {\n",
              "      margin-bottom: 4px;\n",
              "    }\n",
              "\n",
              "    [theme=dark] .colab-df-convert {\n",
              "      background-color: #3B4455;\n",
              "      fill: #D2E3FC;\n",
              "    }\n",
              "\n",
              "    [theme=dark] .colab-df-convert:hover {\n",
              "      background-color: #434B5C;\n",
              "      box-shadow: 0px 1px 3px 1px rgba(0, 0, 0, 0.15);\n",
              "      filter: drop-shadow(0px 1px 2px rgba(0, 0, 0, 0.3));\n",
              "      fill: #FFFFFF;\n",
              "    }\n",
              "  </style>\n",
              "\n",
              "    <script>\n",
              "      const buttonEl =\n",
              "        document.querySelector('#df-a884718d-5aad-42d2-a5db-2a586d6ff444 button.colab-df-convert');\n",
              "      buttonEl.style.display =\n",
              "        google.colab.kernel.accessAllowed ? 'block' : 'none';\n",
              "\n",
              "      async function convertToInteractive(key) {\n",
              "        const element = document.querySelector('#df-a884718d-5aad-42d2-a5db-2a586d6ff444');\n",
              "        const dataTable =\n",
              "          await google.colab.kernel.invokeFunction('convertToInteractive',\n",
              "                                                    [key], {});\n",
              "        if (!dataTable) return;\n",
              "\n",
              "        const docLinkHtml = 'Like what you see? Visit the ' +\n",
              "          '<a target=\"_blank\" href=https://colab.research.google.com/notebooks/data_table.ipynb>data table notebook</a>'\n",
              "          + ' to learn more about interactive tables.';\n",
              "        element.innerHTML = '';\n",
              "        dataTable['output_type'] = 'display_data';\n",
              "        await google.colab.output.renderOutput(dataTable, element);\n",
              "        const docLink = document.createElement('div');\n",
              "        docLink.innerHTML = docLinkHtml;\n",
              "        element.appendChild(docLink);\n",
              "      }\n",
              "    </script>\n",
              "  </div>\n",
              "\n",
              "\n",
              "<div id=\"df-1f3b204a-93ef-458a-939a-2d500a0510d3\">\n",
              "  <button class=\"colab-df-quickchart\" onclick=\"quickchart('df-1f3b204a-93ef-458a-939a-2d500a0510d3')\"\n",
              "            title=\"Suggest charts\"\n",
              "            style=\"display:none;\">\n",
              "\n",
              "<svg xmlns=\"http://www.w3.org/2000/svg\" height=\"24px\"viewBox=\"0 0 24 24\"\n",
              "     width=\"24px\">\n",
              "    <g>\n",
              "        <path d=\"M19 3H5c-1.1 0-2 .9-2 2v14c0 1.1.9 2 2 2h14c1.1 0 2-.9 2-2V5c0-1.1-.9-2-2-2zM9 17H7v-7h2v7zm4 0h-2V7h2v10zm4 0h-2v-4h2v4z\"/>\n",
              "    </g>\n",
              "</svg>\n",
              "  </button>\n",
              "\n",
              "<style>\n",
              "  .colab-df-quickchart {\n",
              "      --bg-color: #E8F0FE;\n",
              "      --fill-color: #1967D2;\n",
              "      --hover-bg-color: #E2EBFA;\n",
              "      --hover-fill-color: #174EA6;\n",
              "      --disabled-fill-color: #AAA;\n",
              "      --disabled-bg-color: #DDD;\n",
              "  }\n",
              "\n",
              "  [theme=dark] .colab-df-quickchart {\n",
              "      --bg-color: #3B4455;\n",
              "      --fill-color: #D2E3FC;\n",
              "      --hover-bg-color: #434B5C;\n",
              "      --hover-fill-color: #FFFFFF;\n",
              "      --disabled-bg-color: #3B4455;\n",
              "      --disabled-fill-color: #666;\n",
              "  }\n",
              "\n",
              "  .colab-df-quickchart {\n",
              "    background-color: var(--bg-color);\n",
              "    border: none;\n",
              "    border-radius: 50%;\n",
              "    cursor: pointer;\n",
              "    display: none;\n",
              "    fill: var(--fill-color);\n",
              "    height: 32px;\n",
              "    padding: 0;\n",
              "    width: 32px;\n",
              "  }\n",
              "\n",
              "  .colab-df-quickchart:hover {\n",
              "    background-color: var(--hover-bg-color);\n",
              "    box-shadow: 0 1px 2px rgba(60, 64, 67, 0.3), 0 1px 3px 1px rgba(60, 64, 67, 0.15);\n",
              "    fill: var(--button-hover-fill-color);\n",
              "  }\n",
              "\n",
              "  .colab-df-quickchart-complete:disabled,\n",
              "  .colab-df-quickchart-complete:disabled:hover {\n",
              "    background-color: var(--disabled-bg-color);\n",
              "    fill: var(--disabled-fill-color);\n",
              "    box-shadow: none;\n",
              "  }\n",
              "\n",
              "  .colab-df-spinner {\n",
              "    border: 2px solid var(--fill-color);\n",
              "    border-color: transparent;\n",
              "    border-bottom-color: var(--fill-color);\n",
              "    animation:\n",
              "      spin 1s steps(1) infinite;\n",
              "  }\n",
              "\n",
              "  @keyframes spin {\n",
              "    0% {\n",
              "      border-color: transparent;\n",
              "      border-bottom-color: var(--fill-color);\n",
              "      border-left-color: var(--fill-color);\n",
              "    }\n",
              "    20% {\n",
              "      border-color: transparent;\n",
              "      border-left-color: var(--fill-color);\n",
              "      border-top-color: var(--fill-color);\n",
              "    }\n",
              "    30% {\n",
              "      border-color: transparent;\n",
              "      border-left-color: var(--fill-color);\n",
              "      border-top-color: var(--fill-color);\n",
              "      border-right-color: var(--fill-color);\n",
              "    }\n",
              "    40% {\n",
              "      border-color: transparent;\n",
              "      border-right-color: var(--fill-color);\n",
              "      border-top-color: var(--fill-color);\n",
              "    }\n",
              "    60% {\n",
              "      border-color: transparent;\n",
              "      border-right-color: var(--fill-color);\n",
              "    }\n",
              "    80% {\n",
              "      border-color: transparent;\n",
              "      border-right-color: var(--fill-color);\n",
              "      border-bottom-color: var(--fill-color);\n",
              "    }\n",
              "    90% {\n",
              "      border-color: transparent;\n",
              "      border-bottom-color: var(--fill-color);\n",
              "    }\n",
              "  }\n",
              "</style>\n",
              "\n",
              "  <script>\n",
              "    async function quickchart(key) {\n",
              "      const quickchartButtonEl =\n",
              "        document.querySelector('#' + key + ' button');\n",
              "      quickchartButtonEl.disabled = true;  // To prevent multiple clicks.\n",
              "      quickchartButtonEl.classList.add('colab-df-spinner');\n",
              "      try {\n",
              "        const charts = await google.colab.kernel.invokeFunction(\n",
              "            'suggestCharts', [key], {});\n",
              "      } catch (error) {\n",
              "        console.error('Error during call to suggestCharts:', error);\n",
              "      }\n",
              "      quickchartButtonEl.classList.remove('colab-df-spinner');\n",
              "      quickchartButtonEl.classList.add('colab-df-quickchart-complete');\n",
              "    }\n",
              "    (() => {\n",
              "      let quickchartButtonEl =\n",
              "        document.querySelector('#df-1f3b204a-93ef-458a-939a-2d500a0510d3 button');\n",
              "      quickchartButtonEl.style.display =\n",
              "        google.colab.kernel.accessAllowed ? 'block' : 'none';\n",
              "    })();\n",
              "  </script>\n",
              "</div>\n",
              "\n",
              "    </div>\n",
              "  </div>\n"
            ],
            "application/vnd.google.colaboratory.intrinsic+json": {
              "type": "dataframe",
              "variable_name": "house_price"
            }
          },
          "metadata": {},
          "execution_count": 7
        }
      ],
      "source": [
        "house_price.drop(['id','date'], axis=1, inplace=True)\n",
        "label_col = 'price'\n",
        "house_price.head()"
      ]
    },
    {
      "cell_type": "code",
      "source": [
        "# Identify the zipcode with the highest count\n",
        "most_common_zipcode = house_price['zipcode'].value_counts().idxmax()\n",
        "\n",
        "# Create dummy variables\n",
        "house_price_zip = pd.get_dummies(house_price['zipcode'], prefix='zc')\n",
        "\n",
        "# Drop the column corresponding to the most common zipcode\n",
        "house_price_zip = house_price_zip.drop('zc_' + str(most_common_zipcode), axis=1)\n",
        "\n",
        "# Concatenate the dummy variables with the other numerical columns\n",
        "house_price_num = house_price.select_dtypes(include='number')\n",
        "house_price = pd.concat([house_price_num, house_price_zip], axis=1, join='inner')"
      ],
      "metadata": {
        "id": "QG6aDSyOYuHJ"
      },
      "execution_count": null,
      "outputs": []
    },
    {
      "cell_type": "code",
      "execution_count": null,
      "metadata": {
        "id": "rpIJtyFX2BQL"
      },
      "outputs": [],
      "source": [
        "# Set a seed value\n",
        "seed_value = 1234\n",
        "# Set `PYTHONHASHSEED` environment variable at a fixed value\n",
        "os.environ['PYTHONHASHSEED']=str(seed_value)\n",
        "train_size, valid_size, test_size = (0.7, 0.3, 0.0)\n",
        "house_price_train, house_price_valid = train_test_split(house_price,\n",
        "                                      test_size=valid_size,\n",
        "                                      random_state=2020)"
      ]
    },
    {
      "cell_type": "code",
      "execution_count": null,
      "metadata": {
        "colab": {
          "base_uri": "https://localhost:8080/"
        },
        "id": "D1MDfgW23ebG",
        "outputId": "687e5254-8bdd-447e-a24f-166b98f4c2eb"
      },
      "outputs": [
        {
          "output_type": "stream",
          "name": "stdout",
          "text": [
            "Size of training set:  14000\n",
            "Size of validation set:  6000\n"
          ]
        }
      ],
      "source": [
        "house_price_y_train = house_price_train[[label_col]]\n",
        "house_price_x_train = house_price_train.drop(label_col, axis=1)\n",
        "house_price_y_valid = house_price_valid[[label_col]]\n",
        "house_price_x_valid = house_price_valid.drop(label_col, axis=1)\n",
        "\n",
        "print('Size of training set: ', len(house_price_x_train))\n",
        "print('Size of validation set: ', len(house_price_x_valid))"
      ]
    },
    {
      "cell_type": "code",
      "execution_count": null,
      "metadata": {
        "colab": {
          "base_uri": "https://localhost:8080/"
        },
        "id": "hOyVuR2k3wqR",
        "outputId": "b11d5419-44a8-4040-8f60-6b72a573baf1"
      },
      "outputs": [
        {
          "output_type": "stream",
          "name": "stdout",
          "text": [
            "X train min = 0.0 ; max = 1.0\n",
            "X valid min = 0.0 ; max = 2.0487\n"
          ]
        }
      ],
      "source": [
        "scaler = MinMaxScaler(feature_range=(0, 1), copy=True).fit(house_price_x_train)\n",
        "house_price_x_train = pd.DataFrame(scaler.transform(house_price_x_train),\n",
        "                            columns = house_price_x_train.columns, index = house_price_x_train.index)\n",
        "house_price_x_valid = pd.DataFrame(scaler.transform(house_price_x_valid),\n",
        "                            columns = house_price_x_valid.columns, index = house_price_x_valid.index)\n",
        "\n",
        "print('X train min =', round(house_price_x_train.min().min(),4), '; max =', round(house_price_x_train.max().max(), 4))\n",
        "print('X valid min =', round(house_price_x_valid.min().min(),4), '; max =', round(house_price_x_valid.max().max(), 4))"
      ]
    },
    {
      "cell_type": "markdown",
      "metadata": {
        "id": "lY3RPGcKYzhc"
      },
      "source": [
        "<a id = \"cell_model\"></a>\n",
        "## 3. AI Model Development"
      ]
    },
    {
      "cell_type": "markdown",
      "source": [
        "\n",
        "1. Feature Scaling: Used the MinMaxScaler from scikit-learn to scale the features in the training and validation sets to a range of 0 to 1.\n",
        "\n",
        "2. Model Architecture: MLP Model 2\n",
        "\n",
        "- Input layer with the same size as the feature vector\n",
        "- Dense layer with 100 nodes and tanh activation\n",
        "- Dropout layer with a rate of 0.2 to prevent overfitting\n",
        "- Dense layer with 180 nodes and ReLU activation\n",
        "- Dense layer with 20 nodes and ReLU activation\n",
        "- Output dense layer with a single node. The model is compiled with mean squared error loss, RMSprop optimizer with a learning rate of 0.005, and mean absolute error as a metric.\n",
        "\n",
        "\n",
        "3. Early Stopping: To prevent overfitting, I implemented early stopping by monitoring the validation loss. If the validation loss does not improve for 10 consecutive epochs, the training will stop.\n",
        "\n",
        "4. Model Training: Trained the model for a maximum of 100 epochs with a batch size of 64, using the training data and validation data. The training process is monitored using the EarlyStopping callback.\n",
        "\n",
        "5. Model Evaluation: Evaluated the model's performance by calculating metrics:\n",
        "\n",
        "- Mean Squared Error (MSE)\n",
        "- Root Mean Squared Error (RMSE)\n",
        "- Mean Absolute Error (MAE)\n",
        "- Correlation Coefficient between true and predicted values\n",
        "\n",
        "9. Visualizations: Plotted the true vs. predicted values on the validation. I also plotted the training and validation loss and MAE over the epochs to understand the model's convergence behavior.\n"
      ],
      "metadata": {
        "id": "dCORC_GMrVq6"
      }
    },
    {
      "cell_type": "code",
      "execution_count": null,
      "metadata": {
        "id": "AKO3sPXb5E_A"
      },
      "outputs": [],
      "source": [
        "import tensorflow as tf\n",
        "from tensorflow.keras import metrics\n",
        "from tensorflow.keras import regularizers\n",
        "from tensorflow.keras.models import Sequential\n",
        "from tensorflow.keras.layers import Dense, Dropout\n",
        "from tensorflow.keras.optimizers import Nadam, RMSprop\n",
        "from tensorflow.keras.callbacks import EarlyStopping"
      ]
    },
    {
      "cell_type": "markdown",
      "metadata": {
        "id": "0CgfILJq4gdl"
      },
      "source": [
        "**MLP Model**"
      ]
    },
    {
      "cell_type": "code",
      "execution_count": null,
      "metadata": {
        "colab": {
          "base_uri": "https://localhost:8080/"
        },
        "id": "bwbXeoRWyzmF",
        "outputId": "890077bc-9641-458b-88db-6e42cc8d1371"
      },
      "outputs": [
        {
          "output_type": "stream",
          "name": "stdout",
          "text": [
            "Training shape: (14000, 89)\n",
            "Training samples:  14000\n",
            "Validation samples:  6000\n"
          ]
        }
      ],
      "source": [
        "arr_x_train = np.array(house_price_x_train)\n",
        "arr_y_train = np.array(house_price_y_train)\n",
        "arr_x_valid = np.array(house_price_x_valid)\n",
        "arr_y_valid = np.array(house_price_y_valid)\n",
        "\n",
        "print('Training shape:', arr_x_train.shape)\n",
        "print('Training samples: ', arr_x_train.shape[0])\n",
        "print('Validation samples: ', arr_x_valid.shape[0])"
      ]
    },
    {
      "cell_type": "markdown",
      "metadata": {
        "id": "ix7nxzRd-wjU"
      },
      "source": [
        "***"
      ]
    },
    {
      "cell_type": "code",
      "execution_count": null,
      "metadata": {
        "id": "9jI03h8nJ4KK"
      },
      "outputs": [],
      "source": [
        "# Set `python` built-in pseudo-random generator at a fixed value\n",
        "random.seed(seed_value)\n",
        "# Set `numpy` pseudo-random generator at a fixed value\n",
        "np.random.seed(seed_value)\n",
        "# Set `tensorflow` pseudo-random generator at a fixed value\n",
        "tf.random.set_seed(seed_value)\n",
        "# Define early stopping\n",
        "early_stopping = EarlyStopping(monitor='val_loss', patience=10)"
      ]
    },
    {
      "cell_type": "code",
      "execution_count": null,
      "metadata": {
        "id": "R8FyGdcx5hRX"
      },
      "outputs": [],
      "source": [
        "def basic_model_2(x_size, y_size):\n",
        "    t_model = Sequential()\n",
        "    t_model.add(Dense(100, activation=\"tanh\", input_shape=(x_size,)))\n",
        "    t_model.add(Dropout(0.2))\n",
        "    t_model.add(Dense(180, activation=\"relu\"))\n",
        "    t_model.add(Dense(20, activation=\"relu\"))\n",
        "    t_model.add(Dense(y_size))\n",
        "    t_model.compile(\n",
        "        loss='mean_squared_error',\n",
        "        optimizer=RMSprop(learning_rate=0.005, rho=0.9, momentum=0.0, epsilon=1e-07, weight_decay=0.0,),\n",
        "        metrics=[metrics.mae])\n",
        "    return(t_model)"
      ]
    },
    {
      "cell_type": "code",
      "execution_count": null,
      "metadata": {
        "colab": {
          "base_uri": "https://localhost:8080/"
        },
        "id": "BAHKXhqMa7tq",
        "outputId": "4ff824b1-6a56-4f6e-fb03-496a1d4687b4"
      },
      "outputs": [
        {
          "output_type": "stream",
          "name": "stdout",
          "text": [
            "Model: \"sequential\"\n",
            "_________________________________________________________________\n",
            " Layer (type)                Output Shape              Param #   \n",
            "=================================================================\n",
            " dense (Dense)               (None, 100)               9000      \n",
            "                                                                 \n",
            " dropout (Dropout)           (None, 100)               0         \n",
            "                                                                 \n",
            " dense_1 (Dense)             (None, 180)               18180     \n",
            "                                                                 \n",
            " dense_2 (Dense)             (None, 20)                3620      \n",
            "                                                                 \n",
            " dense_3 (Dense)             (None, 1)                 21        \n",
            "                                                                 \n",
            "=================================================================\n",
            "Total params: 30821 (120.39 KB)\n",
            "Trainable params: 30821 (120.39 KB)\n",
            "Non-trainable params: 0 (0.00 Byte)\n",
            "_________________________________________________________________\n"
          ]
        }
      ],
      "source": [
        "model_b = basic_model_2(arr_x_train.shape[1], arr_y_train.shape[1])\n",
        "model_b.summary()"
      ]
    },
    {
      "cell_type": "code",
      "execution_count": null,
      "metadata": {
        "colab": {
          "base_uri": "https://localhost:8080/"
        },
        "id": "cxmNbnXWbFSK",
        "outputId": "f759d107-95ea-4743-94da-cddc1f193ca9"
      },
      "outputs": [
        {
          "output_type": "stream",
          "name": "stdout",
          "text": [
            "Epoch 1/500\n",
            "219/219 - 8s - loss: 329001697280.0000 - mean_absolute_error: 430302.0312 - val_loss: 158986797056.0000 - val_mean_absolute_error: 236336.2500 - 8s/epoch - 35ms/step\n",
            "Epoch 2/500\n",
            "219/219 - 1s - loss: 114516713472.0000 - mean_absolute_error: 188509.5938 - val_loss: 66771861504.0000 - val_mean_absolute_error: 136187.4688 - 745ms/epoch - 3ms/step\n",
            "Epoch 3/500\n",
            "219/219 - 1s - loss: 63286411264.0000 - mean_absolute_error: 131158.6406 - val_loss: 45718413312.0000 - val_mean_absolute_error: 108296.0234 - 887ms/epoch - 4ms/step\n",
            "Epoch 4/500\n",
            "219/219 - 1s - loss: 47313043456.0000 - mean_absolute_error: 116824.5000 - val_loss: 34441039872.0000 - val_mean_absolute_error: 98448.8750 - 884ms/epoch - 4ms/step\n",
            "Epoch 5/500\n",
            "219/219 - 1s - loss: 39288737792.0000 - mean_absolute_error: 113013.0625 - val_loss: 29403531264.0000 - val_mean_absolute_error: 93920.8516 - 719ms/epoch - 3ms/step\n",
            "Epoch 6/500\n",
            "219/219 - 1s - loss: 35679830016.0000 - mean_absolute_error: 112078.1328 - val_loss: 26655803392.0000 - val_mean_absolute_error: 89314.6719 - 753ms/epoch - 3ms/step\n",
            "Epoch 7/500\n",
            "219/219 - 1s - loss: 33423906816.0000 - mean_absolute_error: 108800.1562 - val_loss: 25692907520.0000 - val_mean_absolute_error: 91928.3203 - 748ms/epoch - 3ms/step\n",
            "Epoch 8/500\n",
            "219/219 - 1s - loss: 30861860864.0000 - mean_absolute_error: 104091.5859 - val_loss: 24242610176.0000 - val_mean_absolute_error: 88943.7969 - 908ms/epoch - 4ms/step\n",
            "Epoch 9/500\n",
            "219/219 - 1s - loss: 28087013376.0000 - mean_absolute_error: 98235.5781 - val_loss: 20847499264.0000 - val_mean_absolute_error: 79944.1562 - 750ms/epoch - 3ms/step\n",
            "Epoch 10/500\n",
            "219/219 - 1s - loss: 25380634624.0000 - mean_absolute_error: 94054.7266 - val_loss: 21187203072.0000 - val_mean_absolute_error: 84100.3281 - 746ms/epoch - 3ms/step\n",
            "Epoch 11/500\n",
            "219/219 - 1s - loss: 24445097984.0000 - mean_absolute_error: 91995.1094 - val_loss: 19484792832.0000 - val_mean_absolute_error: 78874.7188 - 726ms/epoch - 3ms/step\n",
            "Epoch 12/500\n",
            "219/219 - 1s - loss: 23433916416.0000 - mean_absolute_error: 89201.9766 - val_loss: 19067566080.0000 - val_mean_absolute_error: 78625.6719 - 837ms/epoch - 4ms/step\n",
            "Epoch 13/500\n",
            "219/219 - 1s - loss: 22158043136.0000 - mean_absolute_error: 87130.6094 - val_loss: 17796055040.0000 - val_mean_absolute_error: 75044.9531 - 1s/epoch - 5ms/step\n",
            "Epoch 14/500\n",
            "219/219 - 1s - loss: 21308569600.0000 - mean_absolute_error: 85794.8125 - val_loss: 17888561152.0000 - val_mean_absolute_error: 76900.2656 - 1s/epoch - 5ms/step\n",
            "Epoch 15/500\n",
            "219/219 - 1s - loss: 20705286144.0000 - mean_absolute_error: 84720.0391 - val_loss: 17477181440.0000 - val_mean_absolute_error: 76197.8203 - 1s/epoch - 5ms/step\n",
            "Epoch 16/500\n",
            "219/219 - 1s - loss: 20338022400.0000 - mean_absolute_error: 84214.3984 - val_loss: 16519323648.0000 - val_mean_absolute_error: 73641.9062 - 910ms/epoch - 4ms/step\n",
            "Epoch 17/500\n",
            "219/219 - 1s - loss: 19998218240.0000 - mean_absolute_error: 83869.4375 - val_loss: 16332383232.0000 - val_mean_absolute_error: 73603.6250 - 752ms/epoch - 3ms/step\n",
            "Epoch 18/500\n",
            "219/219 - 1s - loss: 19758751744.0000 - mean_absolute_error: 82855.4609 - val_loss: 16242099200.0000 - val_mean_absolute_error: 73232.7109 - 880ms/epoch - 4ms/step\n",
            "Epoch 19/500\n",
            "219/219 - 1s - loss: 18775650304.0000 - mean_absolute_error: 82355.2969 - val_loss: 15987794944.0000 - val_mean_absolute_error: 74177.1875 - 730ms/epoch - 3ms/step\n",
            "Epoch 20/500\n",
            "219/219 - 1s - loss: 19001911296.0000 - mean_absolute_error: 81834.8516 - val_loss: 15560308736.0000 - val_mean_absolute_error: 73004.7344 - 740ms/epoch - 3ms/step\n",
            "Epoch 21/500\n",
            "219/219 - 1s - loss: 18689341440.0000 - mean_absolute_error: 81268.5156 - val_loss: 15217439744.0000 - val_mean_absolute_error: 72281.0391 - 892ms/epoch - 4ms/step\n",
            "Epoch 22/500\n",
            "219/219 - 1s - loss: 18585118720.0000 - mean_absolute_error: 81025.3984 - val_loss: 15484344320.0000 - val_mean_absolute_error: 73370.2266 - 773ms/epoch - 4ms/step\n",
            "Epoch 23/500\n",
            "219/219 - 1s - loss: 17943926784.0000 - mean_absolute_error: 80882.4375 - val_loss: 15014414336.0000 - val_mean_absolute_error: 71468.6875 - 747ms/epoch - 3ms/step\n",
            "Epoch 24/500\n",
            "219/219 - 1s - loss: 17906501632.0000 - mean_absolute_error: 81392.5312 - val_loss: 14701333504.0000 - val_mean_absolute_error: 70813.6875 - 747ms/epoch - 3ms/step\n",
            "Epoch 25/500\n",
            "219/219 - 1s - loss: 17754042368.0000 - mean_absolute_error: 80921.5000 - val_loss: 15103275008.0000 - val_mean_absolute_error: 72893.8594 - 741ms/epoch - 3ms/step\n",
            "Epoch 26/500\n",
            "219/219 - 1s - loss: 17923903488.0000 - mean_absolute_error: 81659.9141 - val_loss: 14655384576.0000 - val_mean_absolute_error: 71279.6875 - 742ms/epoch - 3ms/step\n",
            "Epoch 27/500\n",
            "219/219 - 1s - loss: 17674967040.0000 - mean_absolute_error: 80652.9844 - val_loss: 14822842368.0000 - val_mean_absolute_error: 73210.5000 - 773ms/epoch - 4ms/step\n",
            "Epoch 28/500\n",
            "219/219 - 1s - loss: 17585410048.0000 - mean_absolute_error: 80423.2891 - val_loss: 15208615936.0000 - val_mean_absolute_error: 73942.7266 - 1s/epoch - 5ms/step\n",
            "Epoch 29/500\n",
            "219/219 - 1s - loss: 17384990720.0000 - mean_absolute_error: 79801.2344 - val_loss: 20571643904.0000 - val_mean_absolute_error: 96808.0938 - 1s/epoch - 5ms/step\n",
            "Epoch 30/500\n",
            "219/219 - 1s - loss: 17135209472.0000 - mean_absolute_error: 80114.5938 - val_loss: 14613751808.0000 - val_mean_absolute_error: 72416.6797 - 1s/epoch - 5ms/step\n",
            "Epoch 31/500\n",
            "219/219 - 1s - loss: 17490509824.0000 - mean_absolute_error: 80443.9531 - val_loss: 14809583616.0000 - val_mean_absolute_error: 69948.8438 - 732ms/epoch - 3ms/step\n",
            "Epoch 32/500\n",
            "219/219 - 1s - loss: 17247152128.0000 - mean_absolute_error: 79910.8203 - val_loss: 14888990720.0000 - val_mean_absolute_error: 73247.7422 - 735ms/epoch - 3ms/step\n",
            "Epoch 33/500\n",
            "219/219 - 1s - loss: 17119388672.0000 - mean_absolute_error: 79972.5781 - val_loss: 18158573568.0000 - val_mean_absolute_error: 83163.6172 - 883ms/epoch - 4ms/step\n",
            "Epoch 34/500\n",
            "219/219 - 1s - loss: 16690233344.0000 - mean_absolute_error: 79371.4375 - val_loss: 13912667136.0000 - val_mean_absolute_error: 69589.3125 - 877ms/epoch - 4ms/step\n",
            "Epoch 35/500\n",
            "219/219 - 1s - loss: 16837737472.0000 - mean_absolute_error: 79347.3828 - val_loss: 14021439488.0000 - val_mean_absolute_error: 69718.3438 - 904ms/epoch - 4ms/step\n",
            "Epoch 36/500\n",
            "219/219 - 1s - loss: 16567396352.0000 - mean_absolute_error: 79223.0000 - val_loss: 14192915456.0000 - val_mean_absolute_error: 70570.8984 - 756ms/epoch - 3ms/step\n",
            "Epoch 37/500\n",
            "219/219 - 1s - loss: 16558691328.0000 - mean_absolute_error: 79011.8125 - val_loss: 15640950784.0000 - val_mean_absolute_error: 75719.1719 - 746ms/epoch - 3ms/step\n",
            "Epoch 38/500\n",
            "219/219 - 1s - loss: 16400953344.0000 - mean_absolute_error: 78690.3516 - val_loss: 16759552000.0000 - val_mean_absolute_error: 83849.3828 - 734ms/epoch - 3ms/step\n",
            "Epoch 39/500\n",
            "219/219 - 1s - loss: 16076746752.0000 - mean_absolute_error: 78062.4531 - val_loss: 14141297664.0000 - val_mean_absolute_error: 70147.1797 - 758ms/epoch - 3ms/step\n",
            "Epoch 40/500\n",
            "219/219 - 1s - loss: 16177379328.0000 - mean_absolute_error: 79171.5859 - val_loss: 14297279488.0000 - val_mean_absolute_error: 72044.0859 - 739ms/epoch - 3ms/step\n",
            "Epoch 41/500\n",
            "219/219 - 1s - loss: 16881297408.0000 - mean_absolute_error: 78945.2188 - val_loss: 15086724096.0000 - val_mean_absolute_error: 74411.0000 - 888ms/epoch - 4ms/step\n",
            "Epoch 42/500\n",
            "219/219 - 1s - loss: 15887706112.0000 - mean_absolute_error: 78311.5625 - val_loss: 14165509120.0000 - val_mean_absolute_error: 69373.8359 - 766ms/epoch - 3ms/step\n",
            "Epoch 43/500\n",
            "219/219 - 1s - loss: 15996684288.0000 - mean_absolute_error: 78370.4922 - val_loss: 17389611008.0000 - val_mean_absolute_error: 87476.0391 - 1s/epoch - 5ms/step\n",
            "Epoch 44/500\n",
            "219/219 - 1s - loss: 15591307264.0000 - mean_absolute_error: 77886.3203 - val_loss: 13695224832.0000 - val_mean_absolute_error: 70012.6250 - 1s/epoch - 5ms/step\n",
            "Epoch 45/500\n",
            "219/219 - 1s - loss: 16079831040.0000 - mean_absolute_error: 77979.6094 - val_loss: 15045454848.0000 - val_mean_absolute_error: 73659.9219 - 1s/epoch - 5ms/step\n",
            "Epoch 46/500\n",
            "219/219 - 1s - loss: 15973795840.0000 - mean_absolute_error: 77802.7891 - val_loss: 14676668416.0000 - val_mean_absolute_error: 72611.2422 - 901ms/epoch - 4ms/step\n",
            "Epoch 47/500\n",
            "219/219 - 1s - loss: 15512522752.0000 - mean_absolute_error: 77517.6797 - val_loss: 14766291968.0000 - val_mean_absolute_error: 73965.1016 - 921ms/epoch - 4ms/step\n",
            "Epoch 48/500\n",
            "219/219 - 1s - loss: 15549983744.0000 - mean_absolute_error: 77617.3281 - val_loss: 15246340096.0000 - val_mean_absolute_error: 73415.5859 - 1s/epoch - 5ms/step\n",
            "Epoch 49/500\n",
            "219/219 - 1s - loss: 15817498624.0000 - mean_absolute_error: 78552.0078 - val_loss: 15768255488.0000 - val_mean_absolute_error: 72618.2891 - 1s/epoch - 5ms/step\n",
            "Epoch 50/500\n",
            "219/219 - 1s - loss: 15984240640.0000 - mean_absolute_error: 78333.1328 - val_loss: 14010421248.0000 - val_mean_absolute_error: 69252.5469 - 973ms/epoch - 4ms/step\n",
            "Epoch 51/500\n",
            "219/219 - 1s - loss: 15675892736.0000 - mean_absolute_error: 77724.3047 - val_loss: 14227280896.0000 - val_mean_absolute_error: 71918.8828 - 751ms/epoch - 3ms/step\n",
            "Epoch 52/500\n",
            "219/219 - 1s - loss: 15030005760.0000 - mean_absolute_error: 76992.0391 - val_loss: 13705240576.0000 - val_mean_absolute_error: 69061.0859 - 738ms/epoch - 3ms/step\n",
            "Epoch 53/500\n",
            "219/219 - 1s - loss: 15564051456.0000 - mean_absolute_error: 76828.8438 - val_loss: 18072227840.0000 - val_mean_absolute_error: 88927.3203 - 907ms/epoch - 4ms/step\n",
            "Epoch 54/500\n",
            "219/219 - 1s - loss: 15272563712.0000 - mean_absolute_error: 77056.3281 - val_loss: 14581348352.0000 - val_mean_absolute_error: 69593.5859 - 731ms/epoch - 3ms/step\n"
          ]
        }
      ],
      "source": [
        "history = model_b.fit(arr_x_train, arr_y_train,\n",
        "    batch_size=64,\n",
        "    epochs=500,\n",
        "    shuffle=True,\n",
        "    verbose=2,\n",
        "    validation_data=(arr_x_valid, arr_y_valid),callbacks=[early_stopping])"
      ]
    },
    {
      "cell_type": "code",
      "execution_count": null,
      "metadata": {
        "colab": {
          "base_uri": "https://localhost:8080/"
        },
        "id": "e0jjUeKybO7V",
        "outputId": "690e72cf-96fd-4a56-c6ac-1e5094b8738c"
      },
      "outputs": [
        {
          "output_type": "stream",
          "name": "stdout",
          "text": [
            "Train MAE:  68729.63 , Train Loss:  14236404736.0\n",
            "Val MAE:  69593.62 , Val Loss:  14581342208.0\n"
          ]
        }
      ],
      "source": [
        "train_score = model_b.evaluate(arr_x_train, arr_y_train, verbose=0)\n",
        "valid_score = model_b.evaluate(arr_x_valid, arr_y_valid, verbose=0)\n",
        "\n",
        "print('Train MAE: ', round(train_score[1], 2), ', Train Loss: ', round(train_score[0], 2))\n",
        "print('Val MAE: ', round(valid_score[1], 2), ', Val Loss: ', round(valid_score[0], 2))"
      ]
    },
    {
      "cell_type": "code",
      "execution_count": null,
      "metadata": {
        "id": "ZulGiGkGHIDe",
        "colab": {
          "base_uri": "https://localhost:8080/"
        },
        "outputId": "ae438032-602b-4355-ae71-08b0d981d860"
      },
      "outputs": [
        {
          "output_type": "stream",
          "name": "stdout",
          "text": [
            "188/188 [==============================] - 0s 2ms/step\n",
            "Mean Squared Error: 14581346004.956188\n",
            "Root Mean Squared Error: 120753.2442833574\n",
            "Mean Absolute Error: 69593.59627864584\n",
            "Correlation coefficient: 0.9461359920052698\n"
          ]
        }
      ],
      "source": [
        "# After training the model and making predictions\n",
        "y_pred2 = model_b.predict(arr_x_valid)\n",
        "\n",
        "# Calculate Mean Squared Error\n",
        "mse2 = mean_squared_error(arr_y_valid, y_pred2)\n",
        "print('Mean Squared Error:', mse2)\n",
        "\n",
        "# Calculate Root Mean Squared Error\n",
        "rmse2 = np.sqrt(mse2)\n",
        "print('Root Mean Squared Error:', rmse2)\n",
        "\n",
        "# Calculate Mean Absolute Error\n",
        "mae2 = mean_absolute_error(arr_y_valid, y_pred2)\n",
        "print('Mean Absolute Error:', mae2)\n",
        "\n",
        "# Calculate Correlation Coefficient\n",
        "corrcoef2 = np.corrcoef(arr_y_valid.flatten(), y_pred2.flatten())\n",
        "print('Correlation coefficient:', corrcoef2[0, 1])"
      ]
    },
    {
      "cell_type": "code",
      "execution_count": null,
      "metadata": {
        "colab": {
          "base_uri": "https://localhost:8080/",
          "height": 506
        },
        "id": "-VBHgsHh7hSN",
        "outputId": "572d76e4-c8b2-4b96-8dcc-59bbcfbcedb3"
      },
      "outputs": [
        {
          "output_type": "stream",
          "name": "stdout",
          "text": [
            "188/188 [==============================] - 1s 3ms/step\n"
          ]
        },
        {
          "output_type": "display_data",
          "data": {
            "text/plain": [
              "<Figure size 640x480 with 1 Axes>"
            ],
            "image/png": "[encoded data removed]"
          },
          "metadata": {}
        },
        {
          "output_type": "stream",
          "name": "stdout",
          "text": [
            "The Correlation between true and predicted values is: 0.946\n"
          ]
        }
      ],
      "source": [
        "# Predict on validation data\n",
        "y_valid_predict = model_b.predict(arr_x_valid)\n",
        "\n",
        "# Plot true vs. predicted values\n",
        "plt.scatter(arr_y_valid, y_valid_predict)\n",
        "plt.xlabel('True Values')\n",
        "plt.ylabel('Predicted Values')\n",
        "plt.title('True vs. Predicted Values')\n",
        "plt.show()\n",
        "\n",
        "# Calculate correlation coefficient without reshaping\n",
        "corr_result = np.corrcoef(arr_y_valid.flatten(), y_valid_predict.flatten())\n",
        "\n",
        "# Print correlation coefficient\n",
        "print('The Correlation between true and predicted values is:', round(corr_result[0, 1], 3))"
      ]
    },
    {
      "cell_type": "code",
      "execution_count": null,
      "metadata": {
        "id": "dbTaHgZ_6HbT"
      },
      "outputs": [],
      "source": [
        "\n",
        " def plot_hist(h, xsize=6, ysize=5):\n",
        "    # Prepare plotting\n",
        "    fig_size = plt.rcParams[\"figure.figsize\"]\n",
        "    plt.rcParams[\"figure.figsize\"] = [xsize, ysize]\n",
        "\n",
        "    # Get training and validation keys\n",
        "    ks = list(h.keys())\n",
        "    n2 = math.floor(len(ks)/2)\n",
        "    train_keys = ks[0:n2]\n",
        "    valid_keys = ks[n2:2*n2]\n",
        "\n",
        "    # summarize history for different metrics\n",
        "    for i in range(n2):\n",
        "        plt.plot(h[train_keys[i]])\n",
        "        plt.plot(h[valid_keys[i]])\n",
        "        plt.title('Training vs Validation '+train_keys[i])\n",
        "        plt.ylabel(train_keys[i])\n",
        "        plt.xlabel('Epoch')\n",
        "        plt.legend(['Train', 'Validation'], loc='upper left')\n",
        "        plt.draw()\n",
        "        plt.show()\n",
        "\n",
        "    return"
      ]
    },
    {
      "cell_type": "code",
      "execution_count": null,
      "metadata": {
        "colab": {
          "base_uri": "https://localhost:8080/",
          "height": 803
        },
        "id": "sNH-4o6h6L_d",
        "outputId": "96096712-0a2a-4cf0-d562-a65362767bd6"
      },
      "outputs": [
        {
          "output_type": "display_data",
          "data": {
            "text/plain": [
              "<Figure size 600x400 with 1 Axes>"
            ],
            "image/png": "[encoded data removed]"
          },
          "metadata": {}
        },
        {
          "output_type": "display_data",
          "data": {
            "text/plain": [
              "<Figure size 600x400 with 1 Axes>"
            ],
            "image/png": "[encoded data removed]"
          },
          "metadata": {}
        }
      ],
      "source": [
        "hist = pd.DataFrame(history.history)\n",
        "\n",
        "# Plot history\n",
        "plot_hist(hist, xsize=6, ysize=4)"
      ]
    },
    {
      "cell_type": "markdown",
      "metadata": {
        "id": "tLBXWEhpYzhg"
      },
      "source": [
        "<a id = \"cell_report\"></a>\n",
        "## 4. Experiments Report"
      ]
    },
    {
      "cell_type": "markdown",
      "metadata": {
        "id": "HBI1jhjTBBC1"
      },
      "source": [
        "**Task 1 – House Price Prediction**"
      ]
    },
    {
      "cell_type": "markdown",
      "metadata": {
        "id": "RmLLLhVsJTvk"
      },
      "source": [
        "In **Task 1** with the house price prediction dataset, **MLP Model 2** outperformed **MLP 1**, **Linear regression model**, **GPU Model** and **LSTM Model**  across all metrics:\n"
      ]
    },
    {
      "cell_type": "markdown",
      "source": [
        "![Screenshot 2024-05-05 at 11.55.15 pm.png](data:image/png;base64,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)"
      ],
      "metadata": {
        "id": "yrs1woPpCthx"
      }
    },
    {
      "cell_type": "markdown",
      "source": [
        "***Table 1: Models Comparison***"
      ],
      "metadata": {
        "id": "kF0dFvI2SFD-"
      }
    },
    {
      "cell_type": "markdown",
      "source": [
        "**1. Model MLP 1**:\n",
        "- Input layer with the same size as the feature vector\n",
        "- Dense layer with 100 nodes and ReLU activation\n",
        "- Dense layer with y_size\n",
        "- Output dense layer with a single node. The model is compiled with mean squared error loss, RMSprop optimizer with a learning rate of 0.001, and mean absolute error as a metric.\n",
        "\n",
        "**2. Model MLP 2**:\n",
        "- Input layer with the same size as the feature vector\n",
        "- Dense layer with 100 nodes and tanh activation\n",
        "- Dropout layer with a rate of 0.2 to prevent overfitting\n",
        "- Dense layer with 180 nodes and ReLU activation\n",
        "- Dense layer with 20 nodes and ReLU activation\n",
        "- Output dense layer with a single node. The model is compiled with mean squared error loss, RMSprop optimizer with a learning rate of 0.005, and mean absolute error as a metric.\n",
        "\n",
        "**3. Linear Regression Model**:\n",
        "- A simple and interpretable model that assumes a linear relationship between the input features and the target variable. It help finding the best-fitting straight line that minimizes the sum of squared errors between the predicted and actual values.\n",
        "\n",
        "**4. Model GRU**:\n",
        "- GRU layer with 50 units and ReLU activation, dense of 1\n",
        "- Output dense layer with a single node. The model is compiled with the Adam optimizer and mean squared error loss.\n",
        "\n",
        "**5. Model LSTM**:\n",
        "- LSTM layer with 50 units and ReLU activation, dense of 1\n",
        "- Output dense layer with a single node. The model is compiled with the Adam optimizer and mean squared error loss.\n"
      ],
      "metadata": {
        "id": "4-g0fg9HNu_i"
      }
    },
    {
      "cell_type": "markdown",
      "source": [
        "**The MLP Model 2** demonstrated superior predictive accuracy with a lower **Mean Squared Error** at 14414357273.13735, indicating its predictions were closer to actual house prices. The **Root Mean Squared Error** of 120059.807068 interpretes for the model's accuracy. The **Mean Absolute Error** of 72363.822555 highlights the model's ability to make predictions within a reasonable range of the actual prices, without being influenced by outliers. Furthermore, the model's **Correlation Coefficient** of 0.944 suggests a stronger linear relationship between its predictions and the true house prices.\n",
        "\n",
        "**Conclusion:** The MLP Model 2 performance using this dataset across all metrics makes it a suitable model for deployment in real-world house price prediction applications. Its higher accuracy, greater explained variance, and stronger linear correlation to true prices indicate a reliable model for price predictions.\n"
      ],
      "metadata": {
        "id": "Azz5hYJaBWRV"
      }
    }
  ],
  "metadata": {
    "colab": {
      "provenance": [],
      "gpuType": "T4"
    },
    "kernelspec": {
      "display_name": "Python 3",
      "name": "python3"
    },
    "language_info": {
      "codemirror_mode": {
        "name": "ipython",
        "version": 3
      },
      "file_extension": ".py",
      "mimetype": "text/x-python",
      "name": "python",
      "nbconvert_exporter": "python",
      "pygments_lexer": "ipython3",
      "version": "3.7.1"
    },
    "accelerator": "GPU"
  },
  "nbformat": 4,
  "nbformat_minor": 0
}